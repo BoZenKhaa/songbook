{
 "cells": [
  {
   "cell_type": "code",
   "execution_count": 112,
   "metadata": {
    "collapsed": true
   },
   "outputs": [],
   "source": [
    "import re\n",
    "import unicodedata"
   ]
  },
  {
   "cell_type": "markdown",
   "metadata": {},
   "source": [
    "# Load Files"
   ]
  },
  {
   "cell_type": "code",
   "execution_count": 199,
   "metadata": {
    "collapsed": false
   },
   "outputs": [],
   "source": [
    "f = open('./nelibi.sbd')\n",
    "folder_name = 'songs_vyrazeno'"
   ]
  },
  {
   "cell_type": "code",
   "execution_count": 200,
   "metadata": {
    "collapsed": false
   },
   "outputs": [],
   "source": [
    "lines = f.readlines()\n",
    "wot = ''.join(lines)\n",
    "songs = wot.split('\\\\endsong')\n",
    "songs = [song+'\\\\endsong' for song in songs]\n",
    "songs = songs[:-1]"
   ]
  },
  {
   "cell_type": "code",
   "execution_count": null,
   "metadata": {
    "collapsed": true
   },
   "outputs": [],
   "source": []
  },
  {
   "cell_type": "markdown",
   "metadata": {},
   "source": [
    "# Generate Single Files"
   ]
  },
  {
   "cell_type": "code",
   "execution_count": 195,
   "metadata": {
    "collapsed": false
   },
   "outputs": [],
   "source": [
    "def song_name(song_str):\n",
    "    try:\n",
    "        p = re.compile('\\\\\\\\beginsong\\{.*?\\}')\n",
    "        name_long = p.findall(song_str)\n",
    "        name = name_long[0][11:-1]\n",
    "        name = name.replace(' ', '_')\n",
    "        name = ''.join((c for c in unicodedata.normalize('NFD', name) \n",
    "                        if unicodedata.category(c) != 'Mn'))\n",
    "        return name\n",
    "    except:\n",
    "        return ''\n",
    "    \n",
    "def song_artist(song_str):\n",
    "    try:\n",
    "        p = re.compile('by=\\{.*?\\}')\n",
    "        artist_long = p.findall(song_str)\n",
    "        artist = artist_long[0][4:-1]\n",
    "        artist = artist.replace(' ', '_')\n",
    "        artist = ''.join((c for c in unicodedata.normalize('NFD', artist) if \n",
    "                        unicodedata.category(c) != 'Mn'))\n",
    "        return artist\n",
    "    except:\n",
    "        return ''\n"
   ]
  },
  {
   "cell_type": "code",
   "execution_count": 197,
   "metadata": {
    "collapsed": true
   },
   "outputs": [],
   "source": [
    "artists = []\n",
    "names = []\n",
    "filenames = []"
   ]
  },
  {
   "cell_type": "code",
   "execution_count": 198,
   "metadata": {
    "collapsed": false
   },
   "outputs": [
    {
     "name": "stdout",
     "output_type": "stream",
     "text": [
      "songs_vyrazeno/Mandrage-Hleda_se_zena.sbd\n",
      "songs_vyrazeno/Karel_Plihal-Kluziste.sbd\n",
      "songs_vyrazeno/Vypsana_fixa-Krasojizda.sbd\n",
      "songs_vyrazeno/Mnaga_a_Zdorp-Nejlip_jim_bylo.sbd\n",
      "songs_vyrazeno/Vypsana_fixa-Ruzyne.sbd\n",
      "songs_vyrazeno/Traband-Sara.sbd\n",
      "songs_vyrazeno/Jan_Nedved-Sireny.sbd\n",
      "songs_vyrazeno/Vypsana_fixa-Stesti_Jimmy_Dixona.sbd\n",
      "songs_vyrazeno/Kaja_Gott-Trezor.sbd\n"
     ]
    }
   ],
   "source": [
    "for song in songs:\n",
    "    filename= folder_name + '/'\n",
    "    artist = song_artist(song)\n",
    "    name = song_name(song)\n",
    "    if artist:\n",
    "        filename=filename+artist+'-'\n",
    "    filename+= name\n",
    "    filename+='.sbd'\n",
    "    \n",
    "    print(filename)\n",
    "    artists.append(artist)\n",
    "    names.append(name)\n",
    "    filenames.append(filename)\n",
    "    \n",
    "    sf = open(filename, 'wt')\n",
    "    sf.write(song)\n",
    "    sf.close()"
   ]
  },
  {
   "cell_type": "markdown",
   "metadata": {},
   "source": [
    "# Generate Tex Code"
   ]
  },
  {
   "cell_type": "code",
   "execution_count": 163,
   "metadata": {
    "collapsed": true
   },
   "outputs": [],
   "source": [
    "import numpy as np"
   ]
  },
  {
   "cell_type": "code",
   "execution_count": 176,
   "metadata": {
    "collapsed": false
   },
   "outputs": [],
   "source": [
    "npnames = np.asarray(names)\n",
    "npartists = np.asarray(artists)\\\n",
    "npfn = np.asarray(filenames)"
   ]
  },
  {
   "cell_type": "code",
   "execution_count": 172,
   "metadata": {
    "collapsed": false
   },
   "outputs": [],
   "source": [
    "ordr = npnames.argsort()"
   ]
  },
  {
   "cell_type": "code",
   "execution_count": 192,
   "metadata": {
    "collapsed": false
   },
   "outputs": [
    {
     "name": "stdout",
     "output_type": "stream",
     "text": [
      "\\input{songs_alb/Miki_Rivola-Bal_v_lapaku.sbd}\n",
      "\\input{songs_alb/Asonance-Barbarske_pobrezi.sbd}\n",
      "\\input{songs_alb/Vypsana_fixa-Bubetka.sbd}\n",
      "\\input{songs_alb/Kabat-Burlaci.sbd}\n",
      "\\input{songs_alb/Asonance-Carodejnice_z_Amesbury.sbd}\n",
      "\\input{songs_alb/Kabat-Colorado.sbd}\n",
      "\\input{songs_alb/Karel_Cernoch-Ctvrte_prani.sbd}\n",
      "\\input{songs_alb/Jarek_Nohavica-Gronska_pisnicka.sbd}\n",
      "\\input{songs_alb/Hirosima.sbd}\n",
      "\\input{songs_alb/Greenhorns-Hucka.sbd}\n",
      "\\input{songs_alb/Jarek_Nohavica-Jdou_po_mne,_jdou.sbd}\n",
      "\\input{songs_alb/Greenhorns-Jesse_James.sbd}\n",
      "\\input{songs_alb/Jarek_Nohavica-Kdyz_me_brali_za_vojaka.sbd}\n",
      "\\input{songs_alb/Hop_Trop-Klada.sbd}\n",
      "\\input{songs_alb/Petr_Lutka-Liza.sbd}\n",
      "\\input{songs_alb/Wabi_Ryvola-Made_in_Pade.sbd}\n",
      "\\input{songs_alb/Kabat-Mala_dama.sbd}\n",
      "\\input{songs_alb/Puvodni_Bures-Navsteva.sbd}\n",
      "\\input{songs_alb/Kopec_sisek-Nepritel_cislo_jedna.sbd}\n",
      "\\input{songs_alb/Puvodni_Bures-Nikola_Sanders.sbd}\n",
      "\\input{songs_alb/Vypsana_fixa-Panenka_Chou_Chou.sbd}\n",
      "\\input{songs_alb/Jarek_Nohavica-Pisen_zhrzeneho_trampa.sbd}\n",
      "\\input{songs_alb/Kabat-Pohoda.sbd}\n",
      "\\input{songs_alb/Greenhorns-Proklatej_vuz.sbd}\n",
      "\\input{songs_alb/Rizni,_rizni.sbd}\n",
      "\\input{songs_alb/Jan_Nedved-Rodne_udoli.sbd}\n",
      "\\input{songs_alb/Rybicky.sbd}\n",
      "\\input{songs_alb/Vypsana_fixa-Schovana.sbd}\n",
      "\\input{songs_alb/Wabi_Ryvola-Sedmact_dnu.sbd}\n",
      "\\input{songs_alb/Sverak_a_Uhlir-Severni_vitr.sbd}\n",
      "\\input{songs_alb/Jiri_Brabec-Shane.sbd}\n",
      "\\input{songs_alb/Mandrage-Srouby_a_Matice.sbd}\n",
      "\\input{songs_alb/Wabi_Ryvola-Tereza.sbd}\n",
      "\\input{songs_alb/Petr_Lutka-Toci_se,_toci.sbd}\n",
      "\\input{songs_alb/Visaci_zamek-Traktor.sbd}\n",
      "\\input{songs_alb/Greenhorns-Vlak_v_05.sbd}\n",
      "\\input{songs_alb/Jarek_Nohavica-Zitra_rano_v_pet.sbd}\n",
      "\\input{songs_alb/Visaci_zamek-Znamka_punku.sbd}\n"
     ]
    }
   ],
   "source": [
    "for name, artist, fn in zip(npnames[ordr], npartists[ordr], npfn[ordr]):\n",
    "    tex = '\\input{songs_alb/'\n",
    "    if artist:\n",
    "        tex = tex + artist +'-'\n",
    "    tex = tex+name+'.sbd}'\n",
    "    print(tex)"
   ]
  }
 ],
 "metadata": {
  "kernelspec": {
   "display_name": "Python 3",
   "language": "python",
   "name": "python3"
  },
  "language_info": {
   "codemirror_mode": {
    "name": "ipython",
    "version": 3
   },
   "file_extension": ".py",
   "mimetype": "text/x-python",
   "name": "python",
   "nbconvert_exporter": "python",
   "pygments_lexer": "ipython3",
   "version": "3.5.1"
  }
 },
 "nbformat": 4,
 "nbformat_minor": 0
}
